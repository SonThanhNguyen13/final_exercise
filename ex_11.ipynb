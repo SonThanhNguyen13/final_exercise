{
 "cells": [
  {
   "cell_type": "markdown",
   "metadata": {},
   "source": [
    "# Bài 11:"
   ]
  },
  {
   "cell_type": "code",
   "execution_count": 256,
   "metadata": {},
   "outputs": [],
   "source": [
    "import numpy as np\n",
    "import math\n",
    "import matplotlib.pyplot as plt\n",
    "import pandas as pd\n",
    "import time"
   ]
  },
  {
   "cell_type": "markdown",
   "metadata": {},
   "source": [
    "## Bài 1:"
   ]
  },
  {
   "cell_type": "markdown",
   "metadata": {},
   "source": [
    "#### Tạo ma trận:"
   ]
  },
  {
   "cell_type": "code",
   "execution_count": 257,
   "metadata": {},
   "outputs": [],
   "source": [
    "matrix1 = []\n",
    "line = []\n",
    "for i in range(56):\n",
    "    if str(i)[-1] in ['0','1','2','3','4','5']:\n",
    "        line.append(i)\n",
    "        if len(line) is 6:\n",
    "            matrix1.append(line)\n",
    "            line = []"
   ]
  },
  {
   "cell_type": "code",
   "execution_count": 258,
   "metadata": {},
   "outputs": [
    {
     "data": {
      "text/plain": [
       "[[0, 1, 2, 3, 4, 5],\n",
       " [10, 11, 12, 13, 14, 15],\n",
       " [20, 21, 22, 23, 24, 25],\n",
       " [30, 31, 32, 33, 34, 35],\n",
       " [40, 41, 42, 43, 44, 45],\n",
       " [50, 51, 52, 53, 54, 55]]"
      ]
     },
     "execution_count": 258,
     "metadata": {},
     "output_type": "execute_result"
    }
   ],
   "source": [
    "matrix1"
   ]
  },
  {
   "cell_type": "code",
   "execution_count": 259,
   "metadata": {},
   "outputs": [
    {
     "data": {
      "text/plain": [
       "array([[ 0,  1,  2,  3,  4,  5],\n",
       "       [10, 11, 12, 13, 14, 15],\n",
       "       [20, 21, 22, 23, 24, 25],\n",
       "       [30, 31, 32, 33, 34, 35],\n",
       "       [40, 41, 42, 43, 44, 45],\n",
       "       [50, 51, 52, 53, 54, 55]])"
      ]
     },
     "execution_count": 259,
     "metadata": {},
     "output_type": "execute_result"
    }
   ],
   "source": [
    "np.array(matrix1)"
   ]
  },
  {
   "cell_type": "code",
   "execution_count": 260,
   "metadata": {},
   "outputs": [],
   "source": [
    "matrix2=[]"
   ]
  },
  {
   "cell_type": "code",
   "execution_count": 261,
   "metadata": {},
   "outputs": [],
   "source": [
    "for i in range(6):\n",
    "    matrix2.append([0 for i in range(5)])"
   ]
  },
  {
   "cell_type": "code",
   "execution_count": 262,
   "metadata": {},
   "outputs": [
    {
     "data": {
      "text/plain": [
       "[[0, 0, 0, 0, 0],\n",
       " [0, 0, 0, 0, 0],\n",
       " [0, 0, 0, 0, 0],\n",
       " [0, 0, 0, 0, 0],\n",
       " [0, 0, 0, 0, 0],\n",
       " [0, 0, 0, 0, 0]]"
      ]
     },
     "execution_count": 262,
     "metadata": {},
     "output_type": "execute_result"
    }
   ],
   "source": [
    "matrix2"
   ]
  },
  {
   "cell_type": "code",
   "execution_count": 263,
   "metadata": {},
   "outputs": [],
   "source": [
    "for i in range(1,6):\n",
    "    matrix2[i][i-1] = i + 1"
   ]
  },
  {
   "cell_type": "code",
   "execution_count": 264,
   "metadata": {},
   "outputs": [
    {
     "data": {
      "text/plain": [
       "[[0, 0, 0, 0, 0],\n",
       " [2, 0, 0, 0, 0],\n",
       " [0, 3, 0, 0, 0],\n",
       " [0, 0, 4, 0, 0],\n",
       " [0, 0, 0, 5, 0],\n",
       " [0, 0, 0, 0, 6]]"
      ]
     },
     "execution_count": 264,
     "metadata": {},
     "output_type": "execute_result"
    }
   ],
   "source": [
    "matrix2"
   ]
  },
  {
   "cell_type": "code",
   "execution_count": 265,
   "metadata": {},
   "outputs": [
    {
     "data": {
      "text/plain": [
       "array([[0, 0, 0, 0, 0],\n",
       "       [2, 0, 0, 0, 0],\n",
       "       [0, 3, 0, 0, 0],\n",
       "       [0, 0, 4, 0, 0],\n",
       "       [0, 0, 0, 5, 0],\n",
       "       [0, 0, 0, 0, 6]])"
      ]
     },
     "execution_count": 265,
     "metadata": {},
     "output_type": "execute_result"
    }
   ],
   "source": [
    "np.array(matrix2)"
   ]
  },
  {
   "cell_type": "markdown",
   "metadata": {},
   "source": [
    "## Bài 2:"
   ]
  },
  {
   "cell_type": "markdown",
   "metadata": {},
   "source": [
    "#### Vẽ đồ thị hàm sin,cos,tan trong khoảng -2𝜋 -> 2𝜋"
   ]
  },
  {
   "cell_type": "code",
   "execution_count": 266,
   "metadata": {},
   "outputs": [],
   "source": [
    "x = np.linspace(-math.pi, math.pi, 100)"
   ]
  },
  {
   "cell_type": "code",
   "execution_count": 267,
   "metadata": {},
   "outputs": [],
   "source": [
    "y = np.sin(x)"
   ]
  },
  {
   "cell_type": "code",
   "execution_count": 268,
   "metadata": {},
   "outputs": [],
   "source": [
    "%matplotlib inline"
   ]
  },
  {
   "cell_type": "code",
   "execution_count": 269,
   "metadata": {},
   "outputs": [
    {
     "data": {
      "text/plain": [
       "Text(0.5, 1.0, 'y = sin(x)')"
      ]
     },
     "execution_count": 269,
     "metadata": {},
     "output_type": "execute_result"
    },
    {
     "data": {
      "image/png": "[encoded data removed]",
      "text/plain": [
       "<Figure size 432x288 with 1 Axes>"
      ]
     },
     "metadata": {
      "needs_background": "light"
     },
     "output_type": "display_data"
    }
   ],
   "source": [
    "plt.plot(x,y, color='#FF4500')\n",
    "plt.axhline()\n",
    "plt.axvline()\n",
    "plt.legend(['y=sin(x)'])\n",
    "plt.title(\"y = sin(x)\")"
   ]
  },
  {
   "cell_type": "code",
   "execution_count": 270,
   "metadata": {},
   "outputs": [],
   "source": [
    "y = np.cos(x)"
   ]
  },
  {
   "cell_type": "code",
   "execution_count": 271,
   "metadata": {},
   "outputs": [
    {
     "data": {
      "text/plain": [
       "Text(0.5, 1.0, 'y = cos(x)')"
      ]
     },
     "execution_count": 271,
     "metadata": {},
     "output_type": "execute_result"
    },
    {
     "data": {
      "image/png": "[encoded data removed]",
      "text/plain": [
       "<Figure size 432x288 with 1 Axes>"
      ]
     },
     "metadata": {
      "needs_background": "light"
     },
     "output_type": "display_data"
    }
   ],
   "source": [
    "plt.plot(x,y, color='#FF4500')\n",
    "plt.axhline()\n",
    "plt.axvline()\n",
    "plt.legend(['y=cos(x)'])\n",
    "plt.title('y = cos(x)')"
   ]
  },
  {
   "cell_type": "code",
   "execution_count": 272,
   "metadata": {},
   "outputs": [],
   "source": [
    "y = np.tan(x)"
   ]
  },
  {
   "cell_type": "code",
   "execution_count": 273,
   "metadata": {},
   "outputs": [
    {
     "data": {
      "text/plain": [
       "Text(0.5, 1.0, 'y = tan(x)')"
      ]
     },
     "execution_count": 273,
     "metadata": {},
     "output_type": "execute_result"
    },
    {
     "data": {
      "image/png": "[encoded data removed]",
      "text/plain": [
       "<Figure size 432x288 with 1 Axes>"
      ]
     },
     "metadata": {
      "needs_background": "light"
     },
     "output_type": "display_data"
    }
   ],
   "source": [
    "plt.plot(x,y, color='#FF4500')\n",
    "plt.axhline()\n",
    "plt.axvline()\n",
    "plt.legend(['y=tan(x)'])\n",
    "plt.title('y = tan(x)')"
   ]
  },
  {
   "cell_type": "markdown",
   "metadata": {},
   "source": [
    "## Bài 3:"
   ]
  },
  {
   "cell_type": "markdown",
   "metadata": {},
   "source": [
    "### Vẽ đồ thị hàm x = y**2 và x = y trên cùng 1 trục toạ độ."
   ]
  },
  {
   "cell_type": "code",
   "execution_count": 274,
   "metadata": {},
   "outputs": [],
   "source": [
    "y = np.linspace(-10,10,100)"
   ]
  },
  {
   "cell_type": "code",
   "execution_count": 275,
   "metadata": {},
   "outputs": [],
   "source": [
    "x = y ** 2"
   ]
  },
  {
   "cell_type": "code",
   "execution_count": 276,
   "metadata": {},
   "outputs": [],
   "source": [
    "z = y"
   ]
  },
  {
   "cell_type": "code",
   "execution_count": 277,
   "metadata": {},
   "outputs": [
    {
     "data": {
      "text/plain": [
       "<matplotlib.legend.Legend at 0x7f97e7a99c88>"
      ]
     },
     "execution_count": 277,
     "metadata": {},
     "output_type": "execute_result"
    },
    {
     "data": {
      "image/png": "[encoded data removed]",
      "text/plain": [
       "<Figure size 432x288 with 1 Axes>"
      ]
     },
     "metadata": {
      "needs_background": "light"
     },
     "output_type": "display_data"
    }
   ],
   "source": [
    "plt.plot(y,x,z,y)\n",
    "plt.axhline()\n",
    "plt.axvline()\n",
    "plt.legend(['x=y ** 2', 'x=y'])"
   ]
  },
  {
   "cell_type": "markdown",
   "metadata": {},
   "source": [
    "## Bài 4:"
   ]
  },
  {
   "cell_type": "markdown",
   "metadata": {},
   "source": [
    "#### +) Tạo 1000 dữ liệu kiểu int ngẫu nhiêu gắn với 1000 ngày từ 09/02/2010.\n",
    "#### +) Dùng kiểu pd.Series.\n",
    "#### +) Tính cumsum() và vẽ đồ thị."
   ]
  },
  {
   "cell_type": "code",
   "execution_count": 278,
   "metadata": {},
   "outputs": [],
   "source": [
    "data = pd.Series(data=np.random.randint(100, size=1000), index=pd.date_range('2010/02/09', periods=1000))"
   ]
  },
  {
   "cell_type": "code",
   "execution_count": 279,
   "metadata": {},
   "outputs": [],
   "source": [
    "data = np.cumsum(data)"
   ]
  },
  {
   "cell_type": "code",
   "execution_count": 280,
   "metadata": {},
   "outputs": [
    {
     "data": {
      "text/plain": [
       "<matplotlib.axes._subplots.AxesSubplot at 0x7f97e7a6bcc0>"
      ]
     },
     "execution_count": 280,
     "metadata": {},
     "output_type": "execute_result"
    },
    {
     "data": {
      "image/png": "[encoded data removed]",
      "text/plain": [
       "<Figure size 432x288 with 1 Axes>"
      ]
     },
     "metadata": {
      "needs_background": "light"
     },
     "output_type": "display_data"
    }
   ],
   "source": [
    "data.plot()"
   ]
  },
  {
   "cell_type": "markdown",
   "metadata": {},
   "source": [
    "## Bài 5:"
   ]
  },
  {
   "cell_type": "markdown",
   "metadata": {},
   "source": [
    "#### +) Đọc file CSV dientich.csv (trong thư mục này) bằng pandas: pd.read_csv()\n",
    "#### +) Tìm ra 10 tỉnh có diện tích lớn nhất Việt Nam năm 2015.\n",
    "#### +) Vẽ đồ thị cột (bar) diện tích của 10 tỉnh đó."
   ]
  },
  {
   "cell_type": "code",
   "execution_count": 281,
   "metadata": {},
   "outputs": [],
   "source": [
    "data = pd.read_csv('dientich.csv', delimiter=';', skiprows= [0, 3], index_col = 0)"
   ]
  },
  {
   "cell_type": "code",
   "execution_count": 282,
   "metadata": {},
   "outputs": [],
   "source": [
    "top_ten = data.sort_values(by='2015', ascending=False)[:10]"
   ]
  },
  {
   "cell_type": "code",
   "execution_count": 283,
   "metadata": {},
   "outputs": [
    {
     "data": {
      "text/plain": [
       "([0, 1, 2, 3, 4, 5, 6, 7, 8, 9], <a list of 10 Text xticklabel objects>)"
      ]
     },
     "execution_count": 283,
     "metadata": {},
     "output_type": "execute_result"
    },
    {
     "data": {
      "image/png": "[encoded data removed]",
      "text/plain": [
       "<Figure size 432x288 with 1 Axes>"
      ]
     },
     "metadata": {
      "needs_background": "light"
     },
     "output_type": "display_data"
    }
   ],
   "source": [
    "plt.bar(x=top_ten.index, height=top_ten['2015'], color=['#FF4500','#9932CC','#00FFFF','#FFA500','#0000FF'])\n",
    "plt.xticks(rotation=90)"
   ]
  },
  {
   "cell_type": "markdown",
   "metadata": {},
   "source": [
    "## Bài 6:"
   ]
  },
  {
   "cell_type": "markdown",
   "metadata": {},
   "source": [
    "#### Dùng Pandas tìm ngày mà giá BTC cao nhất. Giải nén file dữ liệu: localbtcVND.csv.gz"
   ]
  },
  {
   "cell_type": "code",
   "execution_count": 181,
   "metadata": {},
   "outputs": [],
   "source": [
    "btc_data = pd.read_csv('localbtcVND.csv', index_col=0)"
   ]
  },
  {
   "cell_type": "code",
   "execution_count": 182,
   "metadata": {},
   "outputs": [
    {
     "data": {
      "text/html": [
       "<div>\n",
       "<style scoped>\n",
       "    .dataframe tbody tr th:only-of-type {\n",
       "        vertical-align: middle;\n",
       "    }\n",
       "\n",
       "    .dataframe tbody tr th {\n",
       "        vertical-align: top;\n",
       "    }\n",
       "\n",
       "    .dataframe thead th {\n",
       "        text-align: right;\n",
       "    }\n",
       "</style>\n",
       "<table border=\"1\" class=\"dataframe\">\n",
       "  <thead>\n",
       "    <tr style=\"text-align: right;\">\n",
       "      <th></th>\n",
       "      <th>16102220.610000000000</th>\n",
       "      <th>0.701800000000</th>\n",
       "    </tr>\n",
       "    <tr>\n",
       "      <th>1392343181</th>\n",
       "      <th></th>\n",
       "      <th></th>\n",
       "    </tr>\n",
       "  </thead>\n",
       "  <tbody>\n",
       "    <tr>\n",
       "      <th>1395747805</th>\n",
       "      <td>1.345406e+07</td>\n",
       "      <td>0.185817</td>\n",
       "    </tr>\n",
       "    <tr>\n",
       "      <th>1396018379</th>\n",
       "      <td>1.183333e+07</td>\n",
       "      <td>0.198423</td>\n",
       "    </tr>\n",
       "    <tr>\n",
       "      <th>1396256087</th>\n",
       "      <td>1.154926e+07</td>\n",
       "      <td>0.200000</td>\n",
       "    </tr>\n",
       "    <tr>\n",
       "      <th>1400256247</th>\n",
       "      <td>1.136886e+07</td>\n",
       "      <td>0.215700</td>\n",
       "    </tr>\n",
       "    <tr>\n",
       "      <th>1401678584</th>\n",
       "      <td>1.598772e+07</td>\n",
       "      <td>0.155600</td>\n",
       "    </tr>\n",
       "    <tr>\n",
       "      <th>1403343220</th>\n",
       "      <td>1.066647e+07</td>\n",
       "      <td>0.003600</td>\n",
       "    </tr>\n",
       "    <tr>\n",
       "      <th>1407435181</th>\n",
       "      <td>1.495144e+07</td>\n",
       "      <td>1.184100</td>\n",
       "    </tr>\n",
       "    <tr>\n",
       "      <th>1407854353</th>\n",
       "      <td>1.021515e+07</td>\n",
       "      <td>0.021900</td>\n",
       "    </tr>\n",
       "    <tr>\n",
       "      <th>1407869316</th>\n",
       "      <td>1.029982e+07</td>\n",
       "      <td>0.027300</td>\n",
       "    </tr>\n",
       "    <tr>\n",
       "      <th>1408016532</th>\n",
       "      <td>1.253133e+07</td>\n",
       "      <td>0.039900</td>\n",
       "    </tr>\n",
       "    <tr>\n",
       "      <th>1408456801</th>\n",
       "      <td>1.166181e+07</td>\n",
       "      <td>0.034300</td>\n",
       "    </tr>\n",
       "    <tr>\n",
       "      <th>1408859372</th>\n",
       "      <td>1.274713e+07</td>\n",
       "      <td>0.166100</td>\n",
       "    </tr>\n",
       "    <tr>\n",
       "      <th>1412141132</th>\n",
       "      <td>9.518117e+06</td>\n",
       "      <td>0.030000</td>\n",
       "    </tr>\n",
       "    <tr>\n",
       "      <th>1412942087</th>\n",
       "      <td>9.377344e+06</td>\n",
       "      <td>0.133300</td>\n",
       "    </tr>\n",
       "    <tr>\n",
       "      <th>1427992031</th>\n",
       "      <td>6.081442e+06</td>\n",
       "      <td>0.500000</td>\n",
       "    </tr>\n",
       "    <tr>\n",
       "      <th>1428047292</th>\n",
       "      <td>6.140067e+06</td>\n",
       "      <td>0.500000</td>\n",
       "    </tr>\n",
       "    <tr>\n",
       "      <th>1431402199</th>\n",
       "      <td>5.294533e+06</td>\n",
       "      <td>0.000600</td>\n",
       "    </tr>\n",
       "    <tr>\n",
       "      <th>1432200280</th>\n",
       "      <td>5.555556e+06</td>\n",
       "      <td>0.180000</td>\n",
       "    </tr>\n",
       "    <tr>\n",
       "      <th>1434105236</th>\n",
       "      <td>4.791929e+06</td>\n",
       "      <td>0.396500</td>\n",
       "    </tr>\n",
       "    <tr>\n",
       "      <th>1434476109</th>\n",
       "      <td>5.016303e+06</td>\n",
       "      <td>0.398700</td>\n",
       "    </tr>\n",
       "    <tr>\n",
       "      <th>1435927910</th>\n",
       "      <td>6.039497e+06</td>\n",
       "      <td>0.451300</td>\n",
       "    </tr>\n",
       "    <tr>\n",
       "      <th>1438065613</th>\n",
       "      <td>7.051574e+06</td>\n",
       "      <td>0.500000</td>\n",
       "    </tr>\n",
       "    <tr>\n",
       "      <th>1438181963</th>\n",
       "      <td>6.020470e+06</td>\n",
       "      <td>0.166100</td>\n",
       "    </tr>\n",
       "    <tr>\n",
       "      <th>1438260641</th>\n",
       "      <td>5.999232e+06</td>\n",
       "      <td>4.167200</td>\n",
       "    </tr>\n",
       "    <tr>\n",
       "      <th>1438304056</th>\n",
       "      <td>6.218132e+06</td>\n",
       "      <td>1.608200</td>\n",
       "    </tr>\n",
       "    <tr>\n",
       "      <th>1439608710</th>\n",
       "      <td>6.469501e+06</td>\n",
       "      <td>0.216400</td>\n",
       "    </tr>\n",
       "    <tr>\n",
       "      <th>1439883082</th>\n",
       "      <td>6.196378e+06</td>\n",
       "      <td>0.419600</td>\n",
       "    </tr>\n",
       "    <tr>\n",
       "      <th>1440153556</th>\n",
       "      <td>5.179909e+06</td>\n",
       "      <td>0.780000</td>\n",
       "    </tr>\n",
       "    <tr>\n",
       "      <th>1440388083</th>\n",
       "      <td>4.974591e+06</td>\n",
       "      <td>0.351600</td>\n",
       "    </tr>\n",
       "    <tr>\n",
       "      <th>1441006747</th>\n",
       "      <td>5.022577e+06</td>\n",
       "      <td>1.619600</td>\n",
       "    </tr>\n",
       "    <tr>\n",
       "      <th>...</th>\n",
       "      <td>...</td>\n",
       "      <td>...</td>\n",
       "    </tr>\n",
       "    <tr>\n",
       "      <th>1520332723</th>\n",
       "      <td>2.394626e+08</td>\n",
       "      <td>0.012528</td>\n",
       "    </tr>\n",
       "    <tr>\n",
       "      <th>1520400731</th>\n",
       "      <td>2.368532e+08</td>\n",
       "      <td>0.014135</td>\n",
       "    </tr>\n",
       "    <tr>\n",
       "      <th>1520409893</th>\n",
       "      <td>2.285400e+08</td>\n",
       "      <td>0.072872</td>\n",
       "    </tr>\n",
       "    <tr>\n",
       "      <th>1520479667</th>\n",
       "      <td>2.284231e+08</td>\n",
       "      <td>0.008756</td>\n",
       "    </tr>\n",
       "    <tr>\n",
       "      <th>1520491422</th>\n",
       "      <td>2.152659e+08</td>\n",
       "      <td>0.050204</td>\n",
       "    </tr>\n",
       "    <tr>\n",
       "      <th>1520495916</th>\n",
       "      <td>2.321984e+08</td>\n",
       "      <td>0.129200</td>\n",
       "    </tr>\n",
       "    <tr>\n",
       "      <th>1520496233</th>\n",
       "      <td>2.156711e+08</td>\n",
       "      <td>0.097012</td>\n",
       "    </tr>\n",
       "    <tr>\n",
       "      <th>1520496555</th>\n",
       "      <td>2.556224e+08</td>\n",
       "      <td>0.003912</td>\n",
       "    </tr>\n",
       "    <tr>\n",
       "      <th>1520497978</th>\n",
       "      <td>2.402842e+08</td>\n",
       "      <td>0.942634</td>\n",
       "    </tr>\n",
       "    <tr>\n",
       "      <th>1520504591</th>\n",
       "      <td>2.356449e+08</td>\n",
       "      <td>0.012731</td>\n",
       "    </tr>\n",
       "    <tr>\n",
       "      <th>1520516251</th>\n",
       "      <td>2.395312e+08</td>\n",
       "      <td>2.000000</td>\n",
       "    </tr>\n",
       "    <tr>\n",
       "      <th>1520517727</th>\n",
       "      <td>2.289199e+08</td>\n",
       "      <td>0.065525</td>\n",
       "    </tr>\n",
       "    <tr>\n",
       "      <th>1520577075</th>\n",
       "      <td>1.871336e+08</td>\n",
       "      <td>0.043437</td>\n",
       "    </tr>\n",
       "    <tr>\n",
       "      <th>1520582481</th>\n",
       "      <td>2.069082e+08</td>\n",
       "      <td>0.241653</td>\n",
       "    </tr>\n",
       "    <tr>\n",
       "      <th>1520583156</th>\n",
       "      <td>2.039342e+08</td>\n",
       "      <td>0.014711</td>\n",
       "    </tr>\n",
       "    <tr>\n",
       "      <th>1520583683</th>\n",
       "      <td>2.077065e+08</td>\n",
       "      <td>0.024072</td>\n",
       "    </tr>\n",
       "    <tr>\n",
       "      <th>1520583943</th>\n",
       "      <td>2.067522e+08</td>\n",
       "      <td>0.096734</td>\n",
       "    </tr>\n",
       "    <tr>\n",
       "      <th>1520584586</th>\n",
       "      <td>2.122539e+08</td>\n",
       "      <td>0.209961</td>\n",
       "    </tr>\n",
       "    <tr>\n",
       "      <th>1520584996</th>\n",
       "      <td>2.033688e+08</td>\n",
       "      <td>0.102212</td>\n",
       "    </tr>\n",
       "    <tr>\n",
       "      <th>1520585766</th>\n",
       "      <td>2.114715e+08</td>\n",
       "      <td>0.004729</td>\n",
       "    </tr>\n",
       "    <tr>\n",
       "      <th>1520585963</th>\n",
       "      <td>2.098699e+08</td>\n",
       "      <td>0.012389</td>\n",
       "    </tr>\n",
       "    <tr>\n",
       "      <th>1520587252</th>\n",
       "      <td>2.256814e+08</td>\n",
       "      <td>0.152560</td>\n",
       "    </tr>\n",
       "    <tr>\n",
       "      <th>1520589041</th>\n",
       "      <td>2.089279e+08</td>\n",
       "      <td>0.002393</td>\n",
       "    </tr>\n",
       "    <tr>\n",
       "      <th>1520602606</th>\n",
       "      <td>2.195836e+08</td>\n",
       "      <td>0.025958</td>\n",
       "    </tr>\n",
       "    <tr>\n",
       "      <th>1520656734</th>\n",
       "      <td>2.267075e+08</td>\n",
       "      <td>0.005734</td>\n",
       "    </tr>\n",
       "    <tr>\n",
       "      <th>1520669732</th>\n",
       "      <td>2.134222e+08</td>\n",
       "      <td>0.015513</td>\n",
       "    </tr>\n",
       "    <tr>\n",
       "      <th>1520670325</th>\n",
       "      <td>2.134221e+08</td>\n",
       "      <td>0.020148</td>\n",
       "    </tr>\n",
       "    <tr>\n",
       "      <th>1520677644</th>\n",
       "      <td>2.041032e+08</td>\n",
       "      <td>0.014698</td>\n",
       "    </tr>\n",
       "    <tr>\n",
       "      <th>1520684737</th>\n",
       "      <td>2.426619e+08</td>\n",
       "      <td>0.004121</td>\n",
       "    </tr>\n",
       "    <tr>\n",
       "      <th>1520693785</th>\n",
       "      <td>2.452634e+08</td>\n",
       "      <td>0.004077</td>\n",
       "    </tr>\n",
       "  </tbody>\n",
       "</table>\n",
       "<p>2117 rows × 2 columns</p>\n",
       "</div>"
      ],
      "text/plain": [
       "            16102220.610000000000  0.701800000000\n",
       "1392343181                                       \n",
       "1395747805           1.345406e+07        0.185817\n",
       "1396018379           1.183333e+07        0.198423\n",
       "1396256087           1.154926e+07        0.200000\n",
       "1400256247           1.136886e+07        0.215700\n",
       "1401678584           1.598772e+07        0.155600\n",
       "1403343220           1.066647e+07        0.003600\n",
       "1407435181           1.495144e+07        1.184100\n",
       "1407854353           1.021515e+07        0.021900\n",
       "1407869316           1.029982e+07        0.027300\n",
       "1408016532           1.253133e+07        0.039900\n",
       "1408456801           1.166181e+07        0.034300\n",
       "1408859372           1.274713e+07        0.166100\n",
       "1412141132           9.518117e+06        0.030000\n",
       "1412942087           9.377344e+06        0.133300\n",
       "1427992031           6.081442e+06        0.500000\n",
       "1428047292           6.140067e+06        0.500000\n",
       "1431402199           5.294533e+06        0.000600\n",
       "1432200280           5.555556e+06        0.180000\n",
       "1434105236           4.791929e+06        0.396500\n",
       "1434476109           5.016303e+06        0.398700\n",
       "1435927910           6.039497e+06        0.451300\n",
       "1438065613           7.051574e+06        0.500000\n",
       "1438181963           6.020470e+06        0.166100\n",
       "1438260641           5.999232e+06        4.167200\n",
       "1438304056           6.218132e+06        1.608200\n",
       "1439608710           6.469501e+06        0.216400\n",
       "1439883082           6.196378e+06        0.419600\n",
       "1440153556           5.179909e+06        0.780000\n",
       "1440388083           4.974591e+06        0.351600\n",
       "1441006747           5.022577e+06        1.619600\n",
       "...                           ...             ...\n",
       "1520332723           2.394626e+08        0.012528\n",
       "1520400731           2.368532e+08        0.014135\n",
       "1520409893           2.285400e+08        0.072872\n",
       "1520479667           2.284231e+08        0.008756\n",
       "1520491422           2.152659e+08        0.050204\n",
       "1520495916           2.321984e+08        0.129200\n",
       "1520496233           2.156711e+08        0.097012\n",
       "1520496555           2.556224e+08        0.003912\n",
       "1520497978           2.402842e+08        0.942634\n",
       "1520504591           2.356449e+08        0.012731\n",
       "1520516251           2.395312e+08        2.000000\n",
       "1520517727           2.289199e+08        0.065525\n",
       "1520577075           1.871336e+08        0.043437\n",
       "1520582481           2.069082e+08        0.241653\n",
       "1520583156           2.039342e+08        0.014711\n",
       "1520583683           2.077065e+08        0.024072\n",
       "1520583943           2.067522e+08        0.096734\n",
       "1520584586           2.122539e+08        0.209961\n",
       "1520584996           2.033688e+08        0.102212\n",
       "1520585766           2.114715e+08        0.004729\n",
       "1520585963           2.098699e+08        0.012389\n",
       "1520587252           2.256814e+08        0.152560\n",
       "1520589041           2.089279e+08        0.002393\n",
       "1520602606           2.195836e+08        0.025958\n",
       "1520656734           2.267075e+08        0.005734\n",
       "1520669732           2.134222e+08        0.015513\n",
       "1520670325           2.134221e+08        0.020148\n",
       "1520677644           2.041032e+08        0.014698\n",
       "1520684737           2.426619e+08        0.004121\n",
       "1520693785           2.452634e+08        0.004077\n",
       "\n",
       "[2117 rows x 2 columns]"
      ]
     },
     "execution_count": 182,
     "metadata": {},
     "output_type": "execute_result"
    }
   ],
   "source": [
    "btc_data"
   ]
  },
  {
   "cell_type": "code",
   "execution_count": 183,
   "metadata": {},
   "outputs": [],
   "source": [
    "top_price = btc_data.sort_values(by='16102220.610000000000', ascending=False)"
   ]
  },
  {
   "cell_type": "code",
   "execution_count": 184,
   "metadata": {},
   "outputs": [],
   "source": [
    "day = top_price.head(1)"
   ]
  },
  {
   "cell_type": "code",
   "execution_count": 185,
   "metadata": {},
   "outputs": [
    {
     "data": {
      "text/plain": [
       "'1392343181'"
      ]
     },
     "execution_count": 185,
     "metadata": {},
     "output_type": "execute_result"
    }
   ],
   "source": [
    "day.index.name"
   ]
  },
  {
   "cell_type": "code",
   "execution_count": 186,
   "metadata": {},
   "outputs": [],
   "source": [
    "max_price_day = time.strftime('%d/%m/%Y', time.gmtime(int(day.index.name)))"
   ]
  },
  {
   "cell_type": "code",
   "execution_count": 187,
   "metadata": {},
   "outputs": [
    {
     "data": {
      "text/plain": [
       "'14/02/2014'"
      ]
     },
     "execution_count": 187,
     "metadata": {},
     "output_type": "execute_result"
    }
   ],
   "source": [
    "max_price_day"
   ]
  },
  {
   "cell_type": "code",
   "execution_count": null,
   "metadata": {},
   "outputs": [],
   "source": []
  }
 ],
 "metadata": {
  "kernelspec": {
   "display_name": "Python 3",
   "language": "python",
   "name": "python3"
  },
  "language_info": {
   "codemirror_mode": {
    "name": "ipython",
    "version": 3
   },
   "file_extension": ".py",
   "mimetype": "text/x-python",
   "name": "python",
   "nbconvert_exporter": "python",
   "pygments_lexer": "ipython3",
   "version": "3.6.7"
  }
 },
 "nbformat": 4,
 "nbformat_minor": 2
}
